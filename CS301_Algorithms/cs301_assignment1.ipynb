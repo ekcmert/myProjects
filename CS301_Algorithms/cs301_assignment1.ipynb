{
 "cells": [
  {
   "cell_type": "code",
   "execution_count": 82,
   "id": "17189964",
   "metadata": {
    "pycharm": {
     "name": "#%%\n"
    }
   },
   "outputs": [],
   "source": [
    "import matplotlib.pyplot as plt\n",
    "import numpy as np"
   ]
  },
  {
   "cell_type": "code",
   "execution_count": 83,
   "id": "43ac6b79",
   "metadata": {
    "pycharm": {
     "name": "#%%\n"
    }
   },
   "outputs": [],
   "source": [
    "def lcs(X,Y,i,j):\n",
    "    if (i == 0 or j == 0):\n",
    "        return 0\n",
    "    elif X[i-1] == Y[j-1]:\n",
    "        return 1 + lcs(X,Y,i-1,j-1)\n",
    "    else:\n",
    "        return max(lcs(X,Y,i,j-1),lcs(X,Y,i-1,j))"
   ]
  },
  {
   "cell_type": "code",
   "execution_count": 84,
   "id": "79ef9f3f",
   "metadata": {
    "pycharm": {
     "name": "#%%\n"
    }
   },
   "outputs": [],
   "source": [
    "def lcs2(X,Y,i,j):\n",
    "    if c[i][j] >= 0:\n",
    "        return c[i][j]\n",
    "    if (i == 0 or j == 0):\n",
    "        c[i][j] = 0\n",
    "    elif X[i-1] == Y[j-1]:\n",
    "        c[i][j] = 1 + lcs2(X,Y,i-1,j-1)\n",
    "    else:\n",
    "        c[i][j] = max(lcs2(X,Y,i,j-1),lcs2(X,Y,i-1,j))\n",
    "    return c[i][j]"
   ]
  },
  {
   "cell_type": "code",
   "execution_count": 85,
   "id": "2cad90d7",
   "metadata": {
    "pycharm": {
     "name": "#%%\n"
    }
   },
   "outputs": [
    {
     "name": "stdout",
     "output_type": "stream",
     "text": [
      "Length of LCS is  12\n"
     ]
    }
   ],
   "source": [
    "X = \"acggacgggatctgggtccg\"\n",
    "Y = \"tcccacatggtgcttccccg\"\n",
    "lX = len(X)\n",
    "lY = len(Y)\n",
    "#uncomment the next line to initialize c (for memoization)\n",
    "c = [[-1 for k in range(lY+1)] for l in range(lX+1)]\n",
    "print (\"Length of LCS is \", lcs2(X,Y,lX,lY))"
   ]
  },
  {
   "cell_type": "markdown",
   "id": "07d022cc",
   "metadata": {
    "pycharm": {
     "name": "#%% md\n"
    }
   },
   "source": [
    "import time\n",
    "\n",
    "start = time.time()\n",
    "\n",
    "print(23*2.3)\n",
    "\n",
    "end = time.time()\n",
    "print(end - start)"
   ]
  },
  {
   "cell_type": "code",
   "execution_count": 1,
   "id": "e089b1bb",
   "metadata": {
    "pycharm": {
     "name": "#%%\n"
    }
   },
   "outputs": [],
   "source": [
    "import time\n",
    "from time import process_time\n",
    "import matplotlib.pyplot as plt\n",
    "import numpy as np"
   ]
  },
  {
   "cell_type": "code",
   "execution_count": 90,
   "id": "db56bada",
   "metadata": {
    "pycharm": {
     "name": "#%%\n"
    }
   },
   "outputs": [],
   "source": [
    "\n",
    "\n",
    "xstrings = [\n",
    "    \"qwert\",\"qwertyu\",\"qwertyuopz\",\"qwertyuopzxcv\",\"qwertyuopzxcvşç\"\n",
    "]\n",
    "ystrings = [\n",
    "    \"asdfg\",\"asdfghj\",\"asdfghjkli\",\"asdfghjklibnm\",\"asdfghjklibnmüğ\"\n",
    "]\n"
   ]
  },
  {
   "cell_type": "code",
   "execution_count": 91,
   "id": "ad803f05",
   "metadata": {
    "pycharm": {
     "name": "#%%\n"
    }
   },
   "outputs": [
    {
     "name": "stdout",
     "output_type": "stream",
     "text": [
      "5 5\n",
      "7 7\n",
      "10 10\n",
      "13 13\n",
      "15 15\n"
     ]
    }
   ],
   "source": [
    "for i in range(5):\n",
    "    print(len(xstrings[i]),len(ystrings[i]))"
   ]
  },
  {
   "cell_type": "code",
   "execution_count": 51,
   "id": "068878e7",
   "metadata": {
    "pycharm": {
     "name": "#%%\n"
    }
   },
   "outputs": [
    {
     "ename": "KeyboardInterrupt",
     "evalue": "",
     "output_type": "error",
     "traceback": [
      "\u001b[1;31m---------------------------------------------------------------------------\u001b[0m",
      "\u001b[1;31mKeyboardInterrupt\u001b[0m                         Traceback (most recent call last)",
      "Input \u001b[1;32mIn [51]\u001b[0m, in \u001b[0;36m<cell line: 4>\u001b[1;34m()\u001b[0m\n\u001b[0;32m      6\u001b[0m lY \u001b[38;5;241m=\u001b[39m \u001b[38;5;28mlen\u001b[39m(ystrings[i])\n\u001b[0;32m      7\u001b[0m start \u001b[38;5;241m=\u001b[39m process_time() \n\u001b[1;32m----> 8\u001b[0m \u001b[43mlcs\u001b[49m\u001b[43m(\u001b[49m\u001b[43mxstrings\u001b[49m\u001b[43m[\u001b[49m\u001b[43mi\u001b[49m\u001b[43m]\u001b[49m\u001b[43m,\u001b[49m\u001b[43mystrings\u001b[49m\u001b[43m[\u001b[49m\u001b[43mi\u001b[49m\u001b[43m]\u001b[49m\u001b[43m,\u001b[49m\u001b[43mlX\u001b[49m\u001b[43m,\u001b[49m\u001b[43mlY\u001b[49m\u001b[43m)\u001b[49m\n\u001b[0;32m      9\u001b[0m end \u001b[38;5;241m=\u001b[39m process_time()\n\u001b[0;32m     10\u001b[0m t1 \u001b[38;5;241m=\u001b[39m end \u001b[38;5;241m-\u001b[39m start \n",
      "Input \u001b[1;32mIn [38]\u001b[0m, in \u001b[0;36mlcs\u001b[1;34m(X, Y, i, j)\u001b[0m\n\u001b[0;32m      5\u001b[0m     \u001b[38;5;28;01mreturn\u001b[39;00m \u001b[38;5;241m1\u001b[39m \u001b[38;5;241m+\u001b[39m lcs(X,Y,i\u001b[38;5;241m-\u001b[39m\u001b[38;5;241m1\u001b[39m,j\u001b[38;5;241m-\u001b[39m\u001b[38;5;241m1\u001b[39m)\n\u001b[0;32m      6\u001b[0m \u001b[38;5;28;01melse\u001b[39;00m:\n\u001b[1;32m----> 7\u001b[0m     \u001b[38;5;28;01mreturn\u001b[39;00m \u001b[38;5;28mmax\u001b[39m(\u001b[43mlcs\u001b[49m\u001b[43m(\u001b[49m\u001b[43mX\u001b[49m\u001b[43m,\u001b[49m\u001b[43mY\u001b[49m\u001b[43m,\u001b[49m\u001b[43mi\u001b[49m\u001b[43m,\u001b[49m\u001b[43mj\u001b[49m\u001b[38;5;241;43m-\u001b[39;49m\u001b[38;5;241;43m1\u001b[39;49m\u001b[43m)\u001b[49m,lcs(X,Y,i\u001b[38;5;241m-\u001b[39m\u001b[38;5;241m1\u001b[39m,j))\n",
      "Input \u001b[1;32mIn [38]\u001b[0m, in \u001b[0;36mlcs\u001b[1;34m(X, Y, i, j)\u001b[0m\n\u001b[0;32m      5\u001b[0m     \u001b[38;5;28;01mreturn\u001b[39;00m \u001b[38;5;241m1\u001b[39m \u001b[38;5;241m+\u001b[39m lcs(X,Y,i\u001b[38;5;241m-\u001b[39m\u001b[38;5;241m1\u001b[39m,j\u001b[38;5;241m-\u001b[39m\u001b[38;5;241m1\u001b[39m)\n\u001b[0;32m      6\u001b[0m \u001b[38;5;28;01melse\u001b[39;00m:\n\u001b[1;32m----> 7\u001b[0m     \u001b[38;5;28;01mreturn\u001b[39;00m \u001b[38;5;28mmax\u001b[39m(\u001b[43mlcs\u001b[49m\u001b[43m(\u001b[49m\u001b[43mX\u001b[49m\u001b[43m,\u001b[49m\u001b[43mY\u001b[49m\u001b[43m,\u001b[49m\u001b[43mi\u001b[49m\u001b[43m,\u001b[49m\u001b[43mj\u001b[49m\u001b[38;5;241;43m-\u001b[39;49m\u001b[38;5;241;43m1\u001b[39;49m\u001b[43m)\u001b[49m,lcs(X,Y,i\u001b[38;5;241m-\u001b[39m\u001b[38;5;241m1\u001b[39m,j))\n",
      "    \u001b[1;31m[... skipping similar frames: lcs at line 7 (16 times)]\u001b[0m\n",
      "Input \u001b[1;32mIn [38]\u001b[0m, in \u001b[0;36mlcs\u001b[1;34m(X, Y, i, j)\u001b[0m\n\u001b[0;32m      5\u001b[0m     \u001b[38;5;28;01mreturn\u001b[39;00m \u001b[38;5;241m1\u001b[39m \u001b[38;5;241m+\u001b[39m lcs(X,Y,i\u001b[38;5;241m-\u001b[39m\u001b[38;5;241m1\u001b[39m,j\u001b[38;5;241m-\u001b[39m\u001b[38;5;241m1\u001b[39m)\n\u001b[0;32m      6\u001b[0m \u001b[38;5;28;01melse\u001b[39;00m:\n\u001b[1;32m----> 7\u001b[0m     \u001b[38;5;28;01mreturn\u001b[39;00m \u001b[38;5;28mmax\u001b[39m(lcs(X,Y,i,j\u001b[38;5;241m-\u001b[39m\u001b[38;5;241m1\u001b[39m),\u001b[43mlcs\u001b[49m\u001b[43m(\u001b[49m\u001b[43mX\u001b[49m\u001b[43m,\u001b[49m\u001b[43mY\u001b[49m\u001b[43m,\u001b[49m\u001b[43mi\u001b[49m\u001b[38;5;241;43m-\u001b[39;49m\u001b[38;5;241;43m1\u001b[39;49m\u001b[43m,\u001b[49m\u001b[43mj\u001b[49m\u001b[43m)\u001b[49m)\n",
      "Input \u001b[1;32mIn [38]\u001b[0m, in \u001b[0;36mlcs\u001b[1;34m(X, Y, i, j)\u001b[0m\n\u001b[0;32m      3\u001b[0m     \u001b[38;5;28;01mreturn\u001b[39;00m \u001b[38;5;241m0\u001b[39m\n\u001b[0;32m      4\u001b[0m \u001b[38;5;28;01melif\u001b[39;00m X[i\u001b[38;5;241m-\u001b[39m\u001b[38;5;241m1\u001b[39m] \u001b[38;5;241m==\u001b[39m Y[j\u001b[38;5;241m-\u001b[39m\u001b[38;5;241m1\u001b[39m]:\n\u001b[1;32m----> 5\u001b[0m     \u001b[38;5;28;01mreturn\u001b[39;00m \u001b[38;5;241m1\u001b[39m \u001b[38;5;241m+\u001b[39m \u001b[43mlcs\u001b[49m\u001b[43m(\u001b[49m\u001b[43mX\u001b[49m\u001b[43m,\u001b[49m\u001b[43mY\u001b[49m\u001b[43m,\u001b[49m\u001b[43mi\u001b[49m\u001b[38;5;241;43m-\u001b[39;49m\u001b[38;5;241;43m1\u001b[39;49m\u001b[43m,\u001b[49m\u001b[43mj\u001b[49m\u001b[38;5;241;43m-\u001b[39;49m\u001b[38;5;241;43m1\u001b[39;49m\u001b[43m)\u001b[49m\n\u001b[0;32m      6\u001b[0m \u001b[38;5;28;01melse\u001b[39;00m:\n\u001b[0;32m      7\u001b[0m     \u001b[38;5;28;01mreturn\u001b[39;00m \u001b[38;5;28mmax\u001b[39m(lcs(X,Y,i,j\u001b[38;5;241m-\u001b[39m\u001b[38;5;241m1\u001b[39m),lcs(X,Y,i\u001b[38;5;241m-\u001b[39m\u001b[38;5;241m1\u001b[39m,j))\n",
      "Input \u001b[1;32mIn [38]\u001b[0m, in \u001b[0;36mlcs\u001b[1;34m(X, Y, i, j)\u001b[0m\n\u001b[0;32m      5\u001b[0m     \u001b[38;5;28;01mreturn\u001b[39;00m \u001b[38;5;241m1\u001b[39m \u001b[38;5;241m+\u001b[39m lcs(X,Y,i\u001b[38;5;241m-\u001b[39m\u001b[38;5;241m1\u001b[39m,j\u001b[38;5;241m-\u001b[39m\u001b[38;5;241m1\u001b[39m)\n\u001b[0;32m      6\u001b[0m \u001b[38;5;28;01melse\u001b[39;00m:\n\u001b[1;32m----> 7\u001b[0m     \u001b[38;5;28;01mreturn\u001b[39;00m \u001b[38;5;28mmax\u001b[39m(\u001b[43mlcs\u001b[49m\u001b[43m(\u001b[49m\u001b[43mX\u001b[49m\u001b[43m,\u001b[49m\u001b[43mY\u001b[49m\u001b[43m,\u001b[49m\u001b[43mi\u001b[49m\u001b[43m,\u001b[49m\u001b[43mj\u001b[49m\u001b[38;5;241;43m-\u001b[39;49m\u001b[38;5;241;43m1\u001b[39;49m\u001b[43m)\u001b[49m,lcs(X,Y,i\u001b[38;5;241m-\u001b[39m\u001b[38;5;241m1\u001b[39m,j))\n",
      "Input \u001b[1;32mIn [38]\u001b[0m, in \u001b[0;36mlcs\u001b[1;34m(X, Y, i, j)\u001b[0m\n\u001b[0;32m      5\u001b[0m     \u001b[38;5;28;01mreturn\u001b[39;00m \u001b[38;5;241m1\u001b[39m \u001b[38;5;241m+\u001b[39m lcs(X,Y,i\u001b[38;5;241m-\u001b[39m\u001b[38;5;241m1\u001b[39m,j\u001b[38;5;241m-\u001b[39m\u001b[38;5;241m1\u001b[39m)\n\u001b[0;32m      6\u001b[0m \u001b[38;5;28;01melse\u001b[39;00m:\n\u001b[1;32m----> 7\u001b[0m     \u001b[38;5;28;01mreturn\u001b[39;00m \u001b[38;5;28mmax\u001b[39m(lcs(X,Y,i,j\u001b[38;5;241m-\u001b[39m\u001b[38;5;241m1\u001b[39m),\u001b[43mlcs\u001b[49m\u001b[43m(\u001b[49m\u001b[43mX\u001b[49m\u001b[43m,\u001b[49m\u001b[43mY\u001b[49m\u001b[43m,\u001b[49m\u001b[43mi\u001b[49m\u001b[38;5;241;43m-\u001b[39;49m\u001b[38;5;241;43m1\u001b[39;49m\u001b[43m,\u001b[49m\u001b[43mj\u001b[49m\u001b[43m)\u001b[49m)\n",
      "    \u001b[1;31m[... skipping similar frames: lcs at line 7 (13 times)]\u001b[0m\n",
      "Input \u001b[1;32mIn [38]\u001b[0m, in \u001b[0;36mlcs\u001b[1;34m(X, Y, i, j)\u001b[0m\n\u001b[0;32m      5\u001b[0m     \u001b[38;5;28;01mreturn\u001b[39;00m \u001b[38;5;241m1\u001b[39m \u001b[38;5;241m+\u001b[39m lcs(X,Y,i\u001b[38;5;241m-\u001b[39m\u001b[38;5;241m1\u001b[39m,j\u001b[38;5;241m-\u001b[39m\u001b[38;5;241m1\u001b[39m)\n\u001b[0;32m      6\u001b[0m \u001b[38;5;28;01melse\u001b[39;00m:\n\u001b[1;32m----> 7\u001b[0m     \u001b[38;5;28;01mreturn\u001b[39;00m \u001b[38;5;28mmax\u001b[39m(\u001b[43mlcs\u001b[49m(X,Y,i,j\u001b[38;5;241m-\u001b[39m\u001b[38;5;241m1\u001b[39m),lcs(X,Y,i\u001b[38;5;241m-\u001b[39m\u001b[38;5;241m1\u001b[39m,j))\n",
      "\u001b[1;31mKeyboardInterrupt\u001b[0m: "
     ]
    }
   ],
   "source": [
    "times_lcs = []\n",
    "times_lcs2 = []\n",
    "\n",
    "for i in range(4):s\n",
    "    lX = len(xstrings[i])\n",
    "    lY = len(ystrings[i])\n",
    "    start = process_time() \n",
    "    lcs(xstrings[i],ystrings[i],lX,lY)\n",
    "    end = process_time()\n",
    "    t1 = end - start \n",
    "    times_lcs.append(t1)\n",
    "    c = [[-1 for k in range(lY+1)] for l in range(lX+1)]\n",
    "    start2 = process_time() \n",
    "    lcs2(xstrings[i],ystrings[i],lX,lY)\n",
    "    end2 = process_time() \n",
    "    t2 = end2 - start2\n",
    "    times_lcs2.append(t2)\n",
    "    "
   ]
  },
  {
   "cell_type": "code",
   "execution_count": null,
   "id": "fa7315fd",
   "metadata": {
    "pycharm": {
     "name": "#%%\n"
    }
   },
   "outputs": [],
   "source": [
    "print(times_lcs)\n",
    "print(times_lcs2)"
   ]
  },
  {
   "cell_type": "code",
   "execution_count": 35,
   "id": "a528c9d4",
   "metadata": {},
   "outputs": [
    {
     "name": "stdout",
     "output_type": "stream",
     "text": [
      "0.0\n",
      "1\n"
     ]
    }
   ],
   "source": [
    "lX = len(xstrings[4])\n",
    "lY = len(ystrings[4])\n",
    "c = [[-1 for k in range(lY+1)] for l in range(lX+1)]\n",
    "start = time.time()\n",
    "lcs2(xstrings[4],ystrings[4],lX,lY)\n",
    "end = time.time()\n",
    "\n",
    "x = float(end) - float(start)\n",
    "print(x)\n",
    "print(lcs2(xstrings[4],ystrings[4],lX,lY))"
   ]
  },
  {
   "cell_type": "code",
   "execution_count": 36,
   "id": "5ecfc884",
   "metadata": {},
   "outputs": [
    {
     "name": "stdout",
     "output_type": "stream",
     "text": [
      "0.0\n",
      "1\n"
     ]
    }
   ],
   "source": [
    "lX = len(xstrings[2])\n",
    "lY = len(ystrings[2])\n",
    "c = [[-1 for k in range(lY+1)] for l in range(lX+1)]\n",
    "start = time.time()\n",
    "lcs2(xstrings[4],ystrings[4],lX,lY)\n",
    "end = time.time()\n",
    "\n",
    "x = end - start\n",
    "print(x)\n",
    "print(lcs2(xstrings[4],ystrings[4],lX,lY))"
   ]
  },
  {
   "cell_type": "code",
   "execution_count": 107,
   "id": "752b3da6",
   "metadata": {},
   "outputs": [],
   "source": [
    "dna = [[],[],[],[],[],[],[],[]]"
   ]
  },
  {
   "cell_type": "code",
   "execution_count": 108,
   "id": "68181422",
   "metadata": {},
   "outputs": [],
   "source": [
    "for i in range(8):\n",
    "    for count in range(30):\n",
    "        \n",
    "        sequence = ''.join(np.random.choice(('c','g','t','a'), 5+2*i ))\n",
    "        sequence2 = ''.join(np.random.choice(('c','g','t','a'), 5+2*i ))\n",
    "        dna_pair = [sequence,sequence2]\n",
    "        dna[i].append(dna_pair)\n"
   ]
  },
  {
   "cell_type": "code",
   "execution_count": 109,
   "id": "1da53b7c",
   "metadata": {},
   "outputs": [
    {
     "data": {
      "text/plain": [
       "[['gcaattatttagcatccga', 'accaagctaaccgctgtcc'],\n",
       " ['cgtcccgtacgaccgggtt', 'aacttggtatgtgctaaag'],\n",
       " ['gagttttacacgctacttt', 'gctactatcgaactgtccg'],\n",
       " ['catccggcctcacatcttg', 'caacagcgattgaaaacat'],\n",
       " ['agcggcattgagaggtgtt', 'aaagaaatataacaacgtc'],\n",
       " ['ccacgcggacctacacgct', 'tttccccgtacccagccat'],\n",
       " ['ctaatgtcttgtccaccat', 'ctagacagggggcgcataa'],\n",
       " ['atagcatcagtattaagtc', 'cgcttagaagatgggaatt'],\n",
       " ['tactacactttttctctca', 'ccaccagagatggcgtgta'],\n",
       " ['gagataggactgattgtag', 'tcgagtggtgtagtgtgaa'],\n",
       " ['ctgtattccgtaggcttct', 'gccatgtcaaacaggaggt'],\n",
       " ['gataaccagtttagacatg', 'ggcacacaaaaatacatcc'],\n",
       " ['ccgacttgggtaaacaaca', 'agagccgtaaagtaataaa'],\n",
       " ['tgtgggaggcccacatccc', 'gaaacggactgtcatggaa'],\n",
       " ['tgcagtagctgattatcac', 'ttttgaacaccccccagcc'],\n",
       " ['catgactctggtcggtcga', 'gaattttcggaaggggtat'],\n",
       " ['cctactgtgagaacgatag', 'gtcagtccgcatgtgccat'],\n",
       " ['ttcactcggcgtcgcgtag', 'ctgatccccctctttccgc'],\n",
       " ['aaacatcgactggacgcat', 'gggggaggtgggtccccct'],\n",
       " ['acctgtgtgccgttttaga', 'tttcagttcctctgtttac'],\n",
       " ['cgttaacaaatctgcggta', 'ccaggaagttcaggtgtgt'],\n",
       " ['cacatagcacagttcactc', 'agcctccgcattctactaa'],\n",
       " ['ttgatgggctagctcgcag', 'ctggcgaagtagctatcct'],\n",
       " ['atgatgttgcgcagcatag', 'gggcaaacaatttgagcgt'],\n",
       " ['aacaaacagcgcacgcttg', 'tctatcgtacccaagctta'],\n",
       " ['cggggcgccgctcgctatc', 'ttaacacgttggaagcgga'],\n",
       " ['gctctgggagatcggggtg', 'cgaggacaatatcgatgtt'],\n",
       " ['cgcaccgtcatcggcacct', 'tacgtagcctaggtcgcgc'],\n",
       " ['gaatagcgggtgtgaagat', 'atcctactcagccacccgt'],\n",
       " ['agaactacaattacgaaat', 'cccgaagttctttcaaata']]"
      ]
     },
     "execution_count": 109,
     "metadata": {},
     "output_type": "execute_result"
    }
   ],
   "source": [
    "dna[7]"
   ]
  },
  {
   "cell_type": "code",
   "execution_count": 111,
   "id": "ed594254",
   "metadata": {},
   "outputs": [
    {
     "data": {
      "text/plain": [
       "19"
      ]
     },
     "execution_count": 111,
     "metadata": {},
     "output_type": "execute_result"
    }
   ],
   "source": [
    "len(dna[7][0][0])"
   ]
  },
  {
   "cell_type": "code",
   "execution_count": 112,
   "id": "94c4773c",
   "metadata": {},
   "outputs": [],
   "source": [
    "times_lcs = [[],[],[],[],[],[],[],[]]\n",
    "times_lcs2 = [[],[],[],[],[],[],[],[]]"
   ]
  },
  {
   "cell_type": "code",
   "execution_count": 113,
   "id": "53c4c854",
   "metadata": {},
   "outputs": [],
   "source": [
    "for i in range(8):\n",
    "    for k in range(30):\n",
    "        lX = len(dna[i][k][0])\n",
    "        lY = len(dna[i][k][1])\n",
    "        start = time.time() \n",
    "        lcs(dna[i][k][0],dna[i][k][1],lX,lY)\n",
    "        end = time.time()\n",
    "        \n",
    "        t1 = end - start \n",
    "        times_lcs[i].append(t1)\n",
    "        c = [[-1 for k in range(lY+1)] for l in range(lX+1)]\n",
    "        start2 = time.time()\n",
    "        lcs2(dna[i][k][0],dna[i][k][1],lX,lY)\n",
    "        end2 = time.time()\n",
    "        t2 = end2 - start2\n",
    "        times_lcs2[i].append(t2)\n",
    "        "
   ]
  },
  {
   "cell_type": "code",
   "execution_count": 114,
   "id": "fec8747d",
   "metadata": {},
   "outputs": [],
   "source": [
    "means_lcs = []\n",
    "std_lcs = []\n",
    "\n",
    "means_lcs2 = []\n",
    "std_lcs2 = []\n",
    "\n",
    "for i in range(8):\n",
    "    means_lcs.append(np.array(times_lcs[i]).mean())\n",
    "    std_lcs.append(np.array(times_lcs[i]).std())\n",
    "    \n",
    "    means_lcs2.append(np.array(times_lcs2[i]).mean())\n",
    "    std_lcs2.append(np.array(times_lcs2[i]).std())\n"
   ]
  },
  {
   "cell_type": "code",
   "execution_count": 115,
   "id": "213016f5",
   "metadata": {},
   "outputs": [
    {
     "name": "stdout",
     "output_type": "stream",
     "text": [
      "Means Naive:  [0.0, 0.0, 0.0020833333333333333, 0.007291666666666667, 0.08020833333333334, 0.3328125, 3.4859375, 18.770833333333332]\n",
      "Std Naive:  [0.0, 0.0, 0.005311478659992485, 0.008777239347058707, 0.08669020113151325, 0.30047569707257527, 4.730258713166711, 27.118356561318492]\n",
      "Means Memoization:  [0.0005208333333333333, 0.0, 0.0, 0.0, 0.0, 0.0005208333333333333, 0.0, 0.0]\n",
      "Std Memoization:  [0.00280477333704922, 0.0, 0.0, 0.0, 0.0, 0.0028047733370492206, 0.0, 0.0]\n"
     ]
    }
   ],
   "source": [
    "print(\"Means Naive: \",means_lcs)\n",
    "print(\"Std Naive: \",std_lcs)\n",
    "print(\"Means Memoization: \",means_lcs2)\n",
    "print(\"Std Memoization: \",std_lcs2)"
   ]
  },
  {
   "cell_type": "code",
   "execution_count": null,
   "id": "fb12a7e1",
   "metadata": {},
   "outputs": [],
   "source": []
  }
 ],
 "metadata": {
  "kernelspec": {
   "display_name": "Python 3 (ipykernel)",
   "language": "python",
   "name": "python3"
  },
  "language_info": {
   "codemirror_mode": {
    "name": "ipython",
    "version": 3
   },
   "file_extension": ".py",
   "mimetype": "text/x-python",
   "name": "python",
   "nbconvert_exporter": "python",
   "pygments_lexer": "ipython3",
   "version": "3.9.12"
  }
 },
 "nbformat": 4,
 "nbformat_minor": 5
}
